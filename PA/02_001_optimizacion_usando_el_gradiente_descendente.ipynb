{
  "nbformat": 4,
  "nbformat_minor": 0,
  "metadata": {
    "colab": {
      "name": "02-001_optimizacion_usando_el_gradiente_descendente.ipynb",
      "provenance": []
    },
    "kernelspec": {
      "name": "python3",
      "display_name": "Python 3"
    },
    "language_info": {
      "name": "python"
    }
  },
  "cells": [
    {
      "cell_type": "markdown",
      "metadata": {
        "id": "6mKexIqyTdIr"
      },
      "source": [
        "# Taller 01 - Optimización usando el gradiente descendente"
      ]
    },
    {
      "cell_type": "code",
      "metadata": {
        "colab": {
          "base_uri": "https://localhost:8080/"
        },
        "id": "4KTp8IdHTYXw",
        "outputId": "9c94f34c-6725-4c84-d2b3-7a7e8c52d9d0"
      },
      "source": [
        "#\n",
        "# A partir del código suministrado, determine la solucion encontrada y el valor\n",
        "# de la función de Rosenbrock para 100, 500, 1000, 2000 y 3000 iteraciones \n",
        "# partiendo siempre del mismo punto de arranque con coordenadas x = -0.5 y\n",
        "# y = 3.5. Use pandas para construir la tabla e imprimirla (use print).\n",
        "#\n",
        "# Rta/\n",
        "#    Iterations         x         y    f(x,y)\n",
        "# 0         100 -1.436412  2.070779  5.941728\n",
        "# 1         500 -1.203561  1.456364  4.861773\n",
        "# 2        1000 -0.807119  0.659530  3.272222\n",
        "# 3        2000  0.499842  0.247335  0.250787\n",
        "# 4        3000  0.761484  0.578762  0.057010\n",
        "#\n",
        "\n",
        "import numpy as np\n",
        "import pandas as pd\n",
        "\n",
        "def f(x, y):\n",
        "    return 100 * (x ** 2 - y) ** 2 + (1 - x) ** 2\n",
        "\n",
        "def g(x, y):\n",
        "    gx = 400 * x * (x ** 2 - y) - 2 * (1 - x)\n",
        "    gy = -200 * (x ** 2 - y)\n",
        "    return (gx, gy)\n",
        "\n",
        "def improve(x, y, mu):\n",
        "    gx, gy = g(x, y)\n",
        "    x = x - mu * gx\n",
        "    y = y - mu * gy\n",
        "    return (x, y)\n",
        "\n",
        "# Creamos el dataframe de resultados\n",
        "df = pd.DataFrame(columns= [\"Iterations\", \"x\", \"y\", \"f(x,y)\"])\n",
        "\n",
        "# Creamos la lista de iteraciones\n",
        "iterations = [100, 500, 1000, 2000, 3000]\n",
        "\n",
        "# Ciclos de ejecución\n",
        "for item in iterations:\n",
        "    # Punto de inicio\n",
        "    x = -0.5\n",
        "    y = +3.5\n",
        "    for epoch in range(item):\n",
        "        x, y = improve(x, y, 0.001)\n",
        "\n",
        "    nueva_fila = {'Iterations':item, 'x':x, 'y':y, 'f(x,y)':f(x, y)}\n",
        "    df[['Iterations']].astype(int)\n",
        "\n",
        "\n",
        "    #Añadiendo una fila al dataframe    \n",
        "    df = df.append(nueva_fila, ignore_index=True)\n",
        "\n",
        "df['Iterations'] = df['Iterations'].astype(int)\n",
        "\n",
        "def f(x, y):\n",
        "    return 100 * (x ** 2 - y) ** 2 + (1 - x) ** 2\n",
        "\n",
        "def g(x, y):\n",
        "    gx = 400 * x * (x ** 2 - y) - 2 * (1 - x)\n",
        "    gy = -200 * (x ** 2 - y)\n",
        "    return (gx, gy)\n",
        "\n",
        "def improve(x, y, mu):\n",
        "    gx, gy = g(x, y)\n",
        "    x = x - mu * gx\n",
        "    y = y - mu * gy\n",
        "    return (x, y)\n",
        "\n",
        "df = pd.DataFrame(columns= [\"Iterations\", \"x\", \"y\", \"f(x,y)\"])\n",
        "Iterations = [100, 500, 1000, 2000, 3000]\n",
        "\n",
        "history_x = []\n",
        "history_y = []\n",
        "history_f = []\n",
        "\n",
        "for i in Iterations:\n",
        "    #el punto inicial\n",
        "    x = -0.5\n",
        "    y = 3.5\n",
        "\n",
        "    for epoch in range(i):\n",
        "        x, y = improve(x, y, 0.001) \n",
        "\n",
        "    history_x.append(x)\n",
        "    history_y.append(y)\n",
        "    history_f.append(f(x, y))\n",
        "\n",
        "df[\"Iterations\"]= iterations\n",
        "df[\"x\"]= history_x\n",
        "df[\"y\"]= history_y\n",
        "df[\"f(x,y)\"] = history_f\n",
        "print(df)"
      ],
      "execution_count": 4,
      "outputs": [
        {
          "output_type": "stream",
          "name": "stdout",
          "text": [
            "   Iterations         x         y    f(x,y)\n",
            "0         100 -1.436412  2.070779  5.941728\n",
            "1         500 -1.203561  1.456364  4.861773\n",
            "2        1000 -0.807119  0.659530  3.272222\n",
            "3        2000  0.499842  0.247335  0.250787\n",
            "4        3000  0.761484  0.578762  0.057010\n"
          ]
        }
      ]
    },
    {
      "cell_type": "code",
      "metadata": {
        "id": "_KxdhnFpeOH2"
      },
      "source": [
        ""
      ],
      "execution_count": 4,
      "outputs": []
    }
  ]
}