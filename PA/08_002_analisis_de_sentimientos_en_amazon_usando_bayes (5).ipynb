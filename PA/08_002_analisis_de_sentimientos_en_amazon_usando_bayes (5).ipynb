{
  "nbformat": 4,
  "nbformat_minor": 0,
  "metadata": {
    "interpreter": {
      "hash": "31f2aee4e71d21fbe5cf8b01ff0e069b9275f58929596ceb00d14d90e3e16cd6"
    },
    "kernel_info": {
      "name": "python3"
    },
    "kernelspec": {
      "display_name": "Python 3",
      "language": "python",
      "name": "python3"
    },
    "language_info": {
      "codemirror_mode": {
        "name": "ipython",
        "version": 3
      },
      "file_extension": ".py",
      "mimetype": "text/x-python",
      "name": "python",
      "nbconvert_exporter": "python",
      "pygments_lexer": "ipython3",
      "version": "3.6.9"
    },
    "nteract": {
      "version": "0.7.1"
    },
    "varInspector": {
      "cols": {
        "lenName": 16,
        "lenType": 16,
        "lenVar": 40
      },
      "kernels_config": {
        "python": {
          "delete_cmd_postfix": "",
          "delete_cmd_prefix": "del ",
          "library": "var_list.py",
          "varRefreshCmd": "print(var_dic_list())"
        },
        "r": {
          "delete_cmd_postfix": ") ",
          "delete_cmd_prefix": "rm(",
          "library": "var_list.r",
          "varRefreshCmd": "cat(var_dic_list()) "
        }
      },
      "types_to_exclude": [
        "module",
        "function",
        "builtin_function_or_method",
        "instance",
        "_Feature"
      ],
      "window_display": false
    },
    "colab": {
      "name": "08-002_analisis_de_sentimientos_en_amazon_usando_bayes",
      "provenance": [],
      "collapsed_sections": []
    }
  },
  "cells": [
    {
      "cell_type": "markdown",
      "metadata": {
        "id": "3dONDjNgbDL0"
      },
      "source": [
        "Análisis de sentimientos de mensajes en Amazon usando Naive Bayes\n",
        "==="
      ]
    },
    {
      "cell_type": "markdown",
      "metadata": {
        "id": "7U-743IVbDL5"
      },
      "source": [
        "El archivo que se encuentra disponible en el link"
      ]
    },
    {
      "cell_type": "markdown",
      "metadata": {
        "id": "x31vxxaSbDL6"
      },
      "source": [
        "https://raw.githubusercontent.com/jdvelasq/datalabs/master/datasets/amazon_cells_labelled.tsv"
      ]
    },
    {
      "cell_type": "markdown",
      "metadata": {
        "id": "BrE_gswtbDL8"
      },
      "source": [
        "contiene mensajes escritos por los usuarios para productos comprados en Amazon y su valoración (positiva, negativa e indeterminada). En este laboratorio se debe construir un clasificador bayesiano que debe ser entrenado con los mensajes valorados, el cual debe ser posteriormente utilizado para valorar los mensajes con valoración indeterminada."
      ]
    },
    {
      "cell_type": "code",
      "metadata": {
        "id": "MsW741ZWbDL9",
        "colab": {
          "base_uri": "https://localhost:8080/"
        },
        "outputId": "e9395898-1261-47c6-a080-1125e7e0e8ce"
      },
      "source": [
        "\n",
        "#\n",
        "# Cargue el archivo usando Pandas e imprima la cantidad de\n",
        "# registros\n",
        "#\n",
        "# Rta/\n",
        "# 14609\n",
        "#\n",
        "import pandas as pd\n",
        "import warnings\n",
        "\n",
        "warnings.filterwarnings(\"ignore\")\n",
        "url = \"https://raw.githubusercontent.com/jdvelasq/datalabs/master/datasets/amazon_cells_labelled.tsv\"\n",
        "df = pd.read_csv(url, sep=\"\\t\", names=[\"Sentence\", \"label\"])\n",
        "\n",
        "\n",
        "len(df['Sentence'])\n",
        "\n"
      ],
      "execution_count": 1,
      "outputs": [
        {
          "output_type": "execute_result",
          "data": {
            "text/plain": [
              "14609"
            ]
          },
          "metadata": {},
          "execution_count": 1
        }
      ]
    },
    {
      "cell_type": "code",
      "metadata": {
        "id": "hg-HiVmbbDMA",
        "colab": {
          "base_uri": "https://localhost:8080/",
          "height": 36
        },
        "outputId": "8cdf5dbc-e418-4646-fb24-e0b08c5c388f"
      },
      "source": [
        "#\n",
        "# Imprima el primer mensaje de texto.\n",
        "#\n",
        "# Rta/\n",
        "# 'I try not to adjust the volume setting to avoid that I turn off the call button which is situated just below the volume adjustment knob.'\n",
        "#\n",
        "df['Sentence'][0]"
      ],
      "execution_count": 2,
      "outputs": [
        {
          "output_type": "execute_result",
          "data": {
            "application/vnd.google.colaboratory.intrinsic+json": {
              "type": "string"
            },
            "text/plain": [
              "'I try not to adjust the volume setting to avoid that I turn off the call button which is situated just below the volume adjustment knob.'"
            ]
          },
          "metadata": {},
          "execution_count": 2
        }
      ]
    },
    {
      "cell_type": "code",
      "metadata": {
        "id": "NtdecRftbDMB",
        "colab": {
          "base_uri": "https://localhost:8080/"
        },
        "outputId": "bcbae14e-6766-4648-81d2-111da2842ade"
      },
      "source": [
        "#\n",
        "# Imprima la cantidad de mensajes con NaN\n",
        "#\n",
        "# Rta/\n",
        "# 13609\n",
        "#\n",
        "\n",
        "print(df.isnull().sum().sum())"
      ],
      "execution_count": 3,
      "outputs": [
        {
          "output_type": "stream",
          "name": "stdout",
          "text": [
            "13609\n"
          ]
        }
      ]
    },
    {
      "cell_type": "code",
      "metadata": {
        "id": "fZ2FaqElbDMC",
        "colab": {
          "base_uri": "https://localhost:8080/"
        },
        "outputId": "619c93fe-5c1e-4106-dbc6-e4d15d436f1b"
      },
      "source": [
        "#\n",
        "# Imprima la cantidad de mensajes con valoración igual a 1.0\n",
        "#\n",
        "# Rta/\n",
        "# 500\n",
        "#\n",
        "df1= (df.label== 1.0).sum()\n",
        "df1\n",
        "\n"
      ],
      "execution_count": 4,
      "outputs": [
        {
          "output_type": "execute_result",
          "data": {
            "text/plain": [
              "500"
            ]
          },
          "metadata": {},
          "execution_count": 4
        }
      ]
    },
    {
      "cell_type": "code",
      "metadata": {
        "id": "GSsH76UrbDMD",
        "colab": {
          "base_uri": "https://localhost:8080/"
        },
        "outputId": "b7cbeca9-1298-4cba-a032-19a5dcac1f93"
      },
      "source": [
        "#\n",
        "# Imprima la cantidad de mensajes con valoración igual a 0.0\n",
        "#\n",
        "# Rta/\n",
        "# 500\n",
        "#\n",
        "df1= (df.label== 0.0).sum()\n",
        "df1"
      ],
      "execution_count": 5,
      "outputs": [
        {
          "output_type": "execute_result",
          "data": {
            "text/plain": [
              "500"
            ]
          },
          "metadata": {},
          "execution_count": 5
        }
      ]
    },
    {
      "cell_type": "code",
      "metadata": {
        "id": "HFP_fJssbDME",
        "colab": {
          "base_uri": "https://localhost:8080/"
        },
        "outputId": "b73ddd71-6a95-4e8c-dc6d-8193e81488a5"
      },
      "source": [
        "#\n",
        "# Genere un nuevo dataset que contenga únicamente los registros\n",
        "# con valoración positiva o negativa e imprima su longitud\n",
        "#\n",
        "# Rta/\n",
        "# 1000\n",
        "#\n",
        "\n",
        "df4= df.copy()\n",
        "df4= df4.dropna(subset =['label'])\n",
        "\n",
        "len(df4)\n"
      ],
      "execution_count": 6,
      "outputs": [
        {
          "output_type": "execute_result",
          "data": {
            "text/plain": [
              "1000"
            ]
          },
          "metadata": {},
          "execution_count": 6
        }
      ]
    },
    {
      "cell_type": "code",
      "metadata": {
        "id": "GxwXfwHVbDMF",
        "colab": {
          "base_uri": "https://localhost:8080/",
          "height": 36
        },
        "outputId": "4f9e22b3-7ef7-4b7a-a4bb-ce0ae1452df0"
      },
      "source": [
        "#\n",
        "# Genere una nueva columna en el nuevo dataset computada como\n",
        "# el resultado de aplicar el stemmer de Porter al mensaje e\n",
        "# imprima el primer mensaje transformado\n",
        "#\n",
        "# Rta/\n",
        "# 'so there is no way for me to plug it in here in the us unless i go by a converter.'\n",
        "#\n",
        "from nltk.stem.porter import PorterStemmer\n",
        "\n",
        "\n",
        "\n",
        "df5=df4.copy()\n",
        "\n",
        "stemmer = PorterStemmer()\n",
        "\n",
        "df5[\"stemmed\"] = df5.Sentence.apply(lambda x: \" \".join([stemmer.stem(x) for x in x.split()])).str.lower()\n",
        "\n",
        "df5['stemmed'][1]\n",
        "\n",
        "\n"
      ],
      "execution_count": 7,
      "outputs": [
        {
          "output_type": "execute_result",
          "data": {
            "application/vnd.google.colaboratory.intrinsic+json": {
              "type": "string"
            },
            "text/plain": [
              "'so there is no way for me to plug it in here in the us unless i go by a converter.'"
            ]
          },
          "metadata": {},
          "execution_count": 7
        }
      ]
    },
    {
      "cell_type": "code",
      "metadata": {
        "id": "OX3IUae1bDMF",
        "colab": {
          "base_uri": "https://localhost:8080/"
        },
        "outputId": "0b42cae0-a4e2-4ba7-84a0-e397916f5ba1"
      },
      "source": [
        "#\n",
        "# Construya la matriz de terminos del documento considerando\n",
        "# las palabras que tengan una frecuencia entre el 0.1% y el 98%,\n",
        "# y que esten unicamente conformadas por letras.\n",
        "#\n",
        "# Imprima el tamaño del vocabulario.\n",
        "#\n",
        "# Rta/\n",
        "# 1554\n",
        "\n",
        "from sklearn.feature_extraction.text import CountVectorizer\n",
        "count_vect = CountVectorizer(\n",
        "    analyzer=\"word\",                # a nivel de palabra\n",
        "    lowercase= True,                 # convierte a minúsculas\n",
        "    stop_words=\"english\",           # stop_words en inglés\n",
        "    #token_pattern=r\"\\b\\w[a-zA-Z][a-zA-Z]+\\b\", # patrones a reconocer\n",
        "    binary=False,                    # Los valores distintos de cero son fijados en 1\n",
        "    max_df=0.98,                     # máxima frecuencia a considerar\n",
        "    min_df=0.001,                       # ignora palabras con baja frecuencia\n",
        ")\n",
        "#\n",
        "# Aplica la función al texto\n",
        "#\n",
        "dtm = count_vect.fit_transform(df5['stemmed'])\n",
        "#\n",
        "# Las filas contienen los mensajes\n",
        "# y las clomunas los términos\n",
        "#\n",
        "dtm\n",
        "\n",
        "vocabulary = count_vect.get_feature_names()\n",
        "len(vocabulary)"
      ],
      "execution_count": 8,
      "outputs": [
        {
          "output_type": "execute_result",
          "data": {
            "text/plain": [
              "1554"
            ]
          },
          "metadata": {},
          "execution_count": 8
        }
      ]
    },
    {
      "cell_type": "code",
      "metadata": {
        "id": "EiyuIjZIbDMG",
        "colab": {
          "base_uri": "https://localhost:8080/"
        },
        "outputId": "f3d7c23e-e69c-477d-c323-22932ed34deb"
      },
      "source": [
        "#\n",
        "# Construya un clasificador bayesiano que use los primeros\n",
        "# 500 patrones para entrenamiento y los últimos 500 para\n",
        "# prueba, e imprima el porcentaje de datos para cada clase\n",
        "# para la muestra de entrenamiento-\n",
        "#\n",
        "# Rta/\n",
        "# 1.0    52.2\n",
        "# 0.0    47.8\n",
        "# Name: label, dtype: float64\n",
        "#\n",
        "\n",
        "X_train = dtm[\n",
        "    0:500,\n",
        "]\n",
        "X_test = dtm[\n",
        "    500:,\n",
        "]\n",
        "\n",
        "y_train_true = df5.label[0:500]\n",
        "y_test_true = df5.label[500:]\n",
        "\n",
        "#\n",
        "# Distribución de los datos en el conjunto de entrenamiento.\n",
        "#\n",
        "round(100 * y_train_true.value_counts() / sum(y_train_true.value_counts()), 1)"
      ],
      "execution_count": 9,
      "outputs": [
        {
          "output_type": "execute_result",
          "data": {
            "text/plain": [
              "1.0    52.2\n",
              "0.0    47.8\n",
              "Name: label, dtype: float64"
            ]
          },
          "metadata": {},
          "execution_count": 9
        }
      ]
    },
    {
      "cell_type": "code",
      "metadata": {
        "id": "FV9Yq8ADbDMG",
        "colab": {
          "base_uri": "https://localhost:8080/"
        },
        "outputId": "8954dfdf-cfe5-4ca2-b314-b7b13fb27abd"
      },
      "source": [
        "#\n",
        "# Imprima el porcentaje de datos para cada clase para la muestra\n",
        "# de prueba, redondeado a un decimal.\n",
        "#\n",
        "# Rta/\n",
        "# 0.0    52.2\n",
        "# 1.0    47.8\n",
        "# Name: label, dtype: float64\n",
        "#\n",
        "round(100 * y_test_true.value_counts() / sum(y_test_true.value_counts()), 1)\n"
      ],
      "execution_count": 10,
      "outputs": [
        {
          "output_type": "execute_result",
          "data": {
            "text/plain": [
              "0.0    52.2\n",
              "1.0    47.8\n",
              "Name: label, dtype: float64"
            ]
          },
          "metadata": {},
          "execution_count": 10
        }
      ]
    },
    {
      "cell_type": "code",
      "metadata": {
        "id": "wjXxGKP_bDMH",
        "colab": {
          "base_uri": "https://localhost:8080/"
        },
        "outputId": "902e06a1-f51f-4a7d-bc05-2d987c185029"
      },
      "source": [
        "#\n",
        "# Cree un clasificador de Bayes y entrenelo. Realice el pronostico\n",
        "# para la muestra de entrenamiento y compute la matriz de confusion\n",
        "#\n",
        "# Rta/\n",
        "# array([[214,  25],\n",
        "#        [  1, 260]])\n",
        "\n",
        "#\n",
        "from sklearn.naive_bayes import BernoulliNB\n",
        "\n",
        "\n",
        "from sklearn.metrics import confusion_matrix\n",
        "\n",
        "#\n",
        "# Se crea un clasificador Naive Bayes (NB)\n",
        "#\n",
        "clf = BernoulliNB()\n",
        "\n",
        "#\n",
        "# Se entrena el clasificador\n",
        "#\n",
        "clf.fit(X_train.toarray(), y_train_true)\n",
        "\n",
        "#pronostico datos prueba\n",
        "y_test_pred = clf.predict(X_train.toarray())\n",
        "y_test_pred_prob = clf.predict_proba(X_test.toarray())\n",
        "y_test_pred\n",
        "\n",
        "\n",
        "#matriz de confusion\n",
        "\n",
        "confusion_matrix(y_true=y_train_true, y_pred=y_test_pred)"
      ],
      "execution_count": 11,
      "outputs": [
        {
          "output_type": "execute_result",
          "data": {
            "text/plain": [
              "array([[214,  25],\n",
              "       [  1, 260]])"
            ]
          },
          "metadata": {},
          "execution_count": 11
        }
      ]
    },
    {
      "cell_type": "code",
      "metadata": {
        "id": "F-sIFmISbDMH",
        "colab": {
          "base_uri": "https://localhost:8080/"
        },
        "outputId": "4e5df17f-6a59-4687-8ceb-e4a8ffd83a10"
      },
      "source": [
        "#\n",
        "# Realice el pronóstico para la muestra de entrenamiento y compute\n",
        "# la matriz de confusión\n",
        "#\n",
        "# Rta/\n",
        "# array([[153, 108],\n",
        "#        [ 32, 207]])\n",
        "#\n",
        "\n",
        "from sklearn.naive_bayes import BernoulliNB\n",
        "from sklearn.metrics import confusion_matrix\n",
        "\n",
        "#\n",
        "# Se crea un clasificador Naive Bayes (NB)\n",
        "#\n",
        "clf = BernoulliNB()\n",
        "\n",
        "#\n",
        "# Se entrena el clasificador\n",
        "#\n",
        "clf.fit(X_train.toarray(), y_train_true)\n",
        "\n",
        "#pronostico datos prueba\n",
        "y_test_pred = clf.predict(X_test.toarray())\n",
        "y_test_pred_prob = clf.predict_proba(X_test.toarray())\n",
        "y_test_pred\n",
        "\n",
        "\n",
        "#matriz de confusion\n",
        "\n",
        "confusion_matrix(y_true=y_test_true, y_pred=y_test_pred)"
      ],
      "execution_count": 12,
      "outputs": [
        {
          "output_type": "execute_result",
          "data": {
            "text/plain": [
              "array([[153, 108],\n",
              "       [ 32, 207]])"
            ]
          },
          "metadata": {},
          "execution_count": 12
        }
      ]
    },
    {
      "cell_type": "code",
      "metadata": {
        "id": "nctivRsCbDMI",
        "colab": {
          "base_uri": "https://localhost:8080/"
        },
        "outputId": "24f8c28b-8179-43bd-afd3-eca625264cbb"
      },
      "source": [
        "#\n",
        "# Realice el pronostico para los mensajes con valoración \n",
        "# indeterminada y compute la cantidad de mensajes positivos\n",
        "#\n",
        "# Rta/\n",
        "# 8284\n",
        "#\n",
        "\n",
        "df_all= df.copy()\n",
        "df_null= df_all[df_all.label.isnull()]\n",
        "\n",
        "stemmer = PorterStemmer()\n",
        "\n",
        "df_null[\"stemmed\"] = df_null.Sentence.apply(lambda x: \" \".join([stemmer.stem(x) for x in x.split()])).str.lower()\n",
        "df_null['stemmed'].head()\n",
        "\n",
        "df_null.pop('label')\n",
        "df_null.head()\n",
        "z= count_vect.transform(df_null[\"stemmed\"])\n",
        "y_pred = (clf.predict(z))\n",
        "print('%d' % sum(y_pred))"
      ],
      "execution_count": 13,
      "outputs": [
        {
          "output_type": "stream",
          "name": "stdout",
          "text": [
            "8284\n"
          ]
        }
      ]
    }
  ]
}